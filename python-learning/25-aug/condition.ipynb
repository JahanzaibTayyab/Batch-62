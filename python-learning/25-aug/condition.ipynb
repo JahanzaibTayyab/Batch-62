{
 "cells": [
  {
   "cell_type": "code",
   "execution_count": 1,
   "metadata": {},
   "outputs": [],
   "source": [
    "# int()\n",
    "# float()\n",
    "# str()\n",
    "\n",
    "\n",
    "# Operators\n",
    "# >, <, >=, >=, ==, !=            True, False \n",
    "# 3 > 4  False\n",
    "# 4 <= 10  True \n",
    "\n",
    "\n",
    "# Logical\n",
    "# and, or, not\n",
    "# or (True when any one condition is True)\n",
    "# and (True when all condition are True)\n",
    "# True and True and True == True\n",
    "# True or False or False == True"
   ]
  },
  {
   "cell_type": "code",
   "execution_count": 7,
   "metadata": {},
   "outputs": [
    {
     "name": "stdout",
     "output_type": "stream",
     "text": [
      "Cold Day\n",
      "Welcome\n"
     ]
    }
   ],
   "source": [
    "temp: float = float(input('Enter Temperature:'))\n",
    "if temp > 35:\n",
    "    print('Hot Day')\n",
    "elif temp >= 20  and temp <= 35:\n",
    "    print('Pleasant Day')\n",
    "else:\n",
    "    print('Cold Day')\n",
    "print('Welcome')"
   ]
  },
  {
   "cell_type": "code",
   "execution_count": 4,
   "metadata": {},
   "outputs": [
    {
     "name": "stdout",
     "output_type": "stream",
     "text": [
      "Failed\n",
      "Welcome\n"
     ]
    }
   ],
   "source": [
    "marks: int = int(input('Enter your name'))\n",
    "if marks >= 33:\n",
    "    print('Pass')\n",
    "else:\n",
    "    print('Failed')\n",
    "\n",
    "print('Welcome')"
   ]
  },
  {
   "cell_type": "code",
   "execution_count": null,
   "metadata": {},
   "outputs": [],
   "source": []
  }
 ],
 "metadata": {
  "kernelspec": {
   "display_name": "Python 3",
   "language": "python",
   "name": "python3"
  },
  "language_info": {
   "codemirror_mode": {
    "name": "ipython",
    "version": 3
   },
   "file_extension": ".py",
   "mimetype": "text/x-python",
   "name": "python",
   "nbconvert_exporter": "python",
   "pygments_lexer": "ipython3",
   "version": "3.12.5"
  }
 },
 "nbformat": 4,
 "nbformat_minor": 2
}
